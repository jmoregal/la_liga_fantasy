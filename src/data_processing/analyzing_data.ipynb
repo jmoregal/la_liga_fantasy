{
 "cells": [
  {
   "cell_type": "code",
   "execution_count": 3,
   "id": "0ac18f62",
   "metadata": {},
   "outputs": [],
   "source": [
    "import pandas as pd"
   ]
  },
  {
   "cell_type": "markdown",
   "id": "e50e3b23",
   "metadata": {},
   "source": [
    "### Ranking general"
   ]
  },
  {
   "cell_type": "code",
   "execution_count": 28,
   "id": "6525b9b3",
   "metadata": {},
   "outputs": [
    {
     "name": "stdout",
     "output_type": "stream",
     "text": [
      "   Rk            Squad  MP  W  D  L  GF  GA  GD  Pts  Pts/MP    xG  xGA  xGD  \\\n",
      "0   1        Barcelona   7  6  1  0  21   5  16   19    2.71  15.8  6.3  9.5   \n",
      "1   2      Real Madrid   7  6  0  1  16   8   8   18    2.57  14.2  8.6  5.6   \n",
      "2   3       Villarreal   7  5  1  1  13   5   8   16    2.29  12.3  7.1  5.2   \n",
      "3   4            Elche   7  3  4  0  10   6   4   13    1.86   9.1  7.4  1.7   \n",
      "4   5  Atlético Madrid   7  3  3  1  14   9   5   12    1.71  12.9  6.7  6.2   \n",
      "\n",
      "   xGD/90     Last 5                        Top Team Scorer  \\\n",
      "0    1.35  D W W W W  Robert Lewandowski, Ferrán Torres - 4   \n",
      "1    0.81  W W W W L                      Kylian Mbappé - 8   \n",
      "2    0.74  D L W W W                     Tajon Buchanan - 3   \n",
      "3    0.24  W D W D W              André Silva, Rafa Mir - 3   \n",
      "4    0.89  D W D W W                     Julián Álvarez - 6   \n",
      "\n",
      "               Goalkeeper  \n",
      "0             Joan García  \n",
      "1        Thibaut Courtois  \n",
      "2  Luiz Lúcio Reis Júnior  \n",
      "3           Matías Dituro  \n",
      "4               Jan Oblak  \n"
     ]
    }
   ],
   "source": [
    "# Abrir parquet en un DataFrame\n",
    "df_ranking = pd.read_parquet(\"../../data/raw/fbref_ranking_general.parquet\")\n",
    "\n",
    "# Eliminar columnas innecesarias\n",
    "df_ranking = df_ranking.drop(columns=[\"Attendance\", \"Notes\"])\n",
    "\n",
    "print(df_ranking.head())"
   ]
  },
  {
   "cell_type": "markdown",
   "id": "1efa232c",
   "metadata": {},
   "source": [
    "### Ranking home/away"
   ]
  },
  {
   "cell_type": "code",
   "execution_count": 32,
   "id": "7bd397f8",
   "metadata": {},
   "outputs": [
    {
     "name": "stdout",
     "output_type": "stream",
     "text": [
      "   'Rk')         'Squad')  'MP')  'W')  'D')  'L')  'GF')  'GA')  'GD')  \\\n",
      "0      1        Barcelona      3     3     0     0     11      1     10   \n",
      "1      2      Real Madrid      3     3     0     0      5      1      4   \n",
      "2      3       Villarreal      4     4     0     0     10      1      9   \n",
      "3      4            Elche      4     3     1     0      6      2      4   \n",
      "4      5  Atlético Madrid      4     3     1     0     11      5      6   \n",
      "\n",
      "   'Pts')  ...  'L')  'GF')  'GA')  'GD')  'Pts')  'Pts/MP')  'xG')  'xGA')  \\\n",
      "0       9  ...     0     10      4      6      10       2.50    7.8     4.9   \n",
      "1       9  ...     1     11      7      4       9       2.25    9.6     6.5   \n",
      "2      12  ...     1      3      4     -1       4       1.33    4.0     2.9   \n",
      "3      10  ...     0      4      4      0       3       1.00    2.3     3.0   \n",
      "4      10  ...     1      3      4     -1       2       0.67    4.3     2.8   \n",
      "\n",
      "   'xGD')  'xGD/90')  \n",
      "0     2.9       0.71  \n",
      "1     3.0       0.76  \n",
      "2     1.1       0.36  \n",
      "3    -0.7      -0.23  \n",
      "4     1.5       0.50  \n",
      "\n",
      "[5 rows x 28 columns]\n"
     ]
    }
   ],
   "source": [
    "df_ranking_ha = pd.read_parquet(\"../../data/raw/fbref_ranking_home_away.parquet\")\n",
    "\n",
    "for col in df_ranking_ha.columns:\n",
    "    if col.startswith(\"Home\"):\n",
    "        df_ranking_ha = df_ranking_ha.rename(columns={col: col.split(\",\").strip('').strip(\")\")+\"_home\"})\n",
    "    elif col.startswith(\"Away\"):\n",
    "        df_ranking_ha = df_ranking_ha.rename(columns={col: col.split(\",\").strip().strip(\")'\")+\"_away\"})\n",
    "    else:\n",
    "        df_ranking_ha = df_ranking_ha.rename(columns={col: col.split(\",\")[1]})\n",
    "\n",
    "print(df_ranking_ha.head())"
   ]
  },
  {
   "cell_type": "markdown",
   "id": "49ed2736",
   "metadata": {},
   "source": [
    "### Players stats"
   ]
  },
  {
   "cell_type": "code",
   "execution_count": 24,
   "id": "7fd504c0",
   "metadata": {},
   "outputs": [
    {
     "name": "stdout",
     "output_type": "stream",
     "text": [
      "                Player    Pos       Squad     Age  Born MP Starts  Min  90s  \\\n",
      "0  Jones El-Abdellaoui  MF,DF  Celta Vigo  19-256  2006  1      0   34  0.4   \n",
      "1          Abdel Abqar     DF      Getafe  26-199  1999  3      3  252  2.8   \n",
      "2           Akor Adams     FW     Sevilla  25-239  2000  4      3  286  3.2   \n",
      "3    David Affengruber     DF       Elche  24-190  2001  5      5  450  5.0   \n",
      "4   Julen Agirrezabala     GK    Valencia  24-273  2000  6      6  540  6.0   \n",
      "\n",
      "  Gls  ... Gls-90min Ast-90min G+A-90min G-PK-90min G+A-PK-90min xG-90min  \\\n",
      "0   0  ...      0.00      0.00      0.00       0.00         0.00     0.00   \n",
      "1   0  ...      0.00      0.00      0.00       0.00         0.00     0.02   \n",
      "2   0  ...      0.00      0.31      0.31       0.00         0.31     0.31   \n",
      "3   0  ...      0.00      0.00      0.00       0.00         0.00     0.00   \n",
      "4   0  ...      0.00      0.00      0.00       0.00         0.00     0.00   \n",
      "\n",
      "  xAG-90min xG+xA-90min npxG-90min npxG+xAG-90min  \n",
      "0      0.14        0.14       0.00           0.14  \n",
      "1      0.00        0.02       0.02           0.02  \n",
      "2      0.03        0.34       0.31           0.34  \n",
      "3      0.02        0.02       0.00           0.02  \n",
      "4      0.00        0.00       0.00           0.00  \n",
      "\n",
      "[5 rows x 34 columns]\n"
     ]
    }
   ],
   "source": [
    "# Abrir parquet en un DataFrame\n",
    "df_players = pd.read_parquet(\"../../data/raw/fbref_players_stats.parquet\")\n",
    "\n",
    "# Eliminar columnas innecesarias\n",
    "df_players = df_players.drop(columns=[\"Rk\", \"Nation\", \"Matches\"])\n",
    "\n",
    "print(df_players.head())"
   ]
  },
  {
   "cell_type": "markdown",
   "id": "7cc0385b",
   "metadata": {},
   "source": [
    "### Results"
   ]
  },
  {
   "cell_type": "code",
   "execution_count": 26,
   "id": "ed44569d",
   "metadata": {},
   "outputs": [
    {
     "name": "stdout",
     "output_type": "stream",
     "text": [
      "    Wk  Day   Time        Home   xG Score  xG.1            Away  Attendance  \\\n",
      "0  1.0  Fri  19:00      Girona  0.6   1–3   3.4  Rayo Vallecano     12403.0   \n",
      "1  1.0  Fri  21:30  Villarreal  2.4   2–0   0.9          Oviedo     18333.0   \n",
      "2  1.0  Sat  19:30    Mallorca  0.2   0–3   2.1       Barcelona     23318.0   \n",
      "3  1.0  Sat  21:30      Alavés  1.2   2–1   0.9         Levante     12837.0   \n",
      "4  1.0  Sat  21:30    Valencia  2.0   1–1   0.8   Real Sociedad     45333.0   \n",
      "\n",
      "                           Venue             Referee  \n",
      "0  Estadi Municipal de Montilivi     Javier Alberola  \n",
      "1         Estadio de la Cerámica     Alejandro Muñíz  \n",
      "2       Estadi Mallorca Son Moix   José Luis Munuera  \n",
      "3        Estadio de Mendizorroza        Miguel Sesma  \n",
      "4            Estadio de Mestalla  Jose Maria Sánchez  \n"
     ]
    }
   ],
   "source": [
    "# Abrir parquet en un DataFrame\n",
    "df_ranking = pd.read_parquet(\"../../data/raw/fbref_results.parquet\")\n",
    "\n",
    "# Eliminar columnas innecesarias\n",
    "df_ranking = df_ranking.drop(columns=[\"Date\", \"Match Report\", \"Notes\"])\n",
    "print(df_ranking.head())"
   ]
  },
  {
   "cell_type": "markdown",
   "id": "58be6dc3",
   "metadata": {},
   "source": [
    "### Squads stats"
   ]
  },
  {
   "cell_type": "code",
   "execution_count": 27,
   "id": "4c676e6a",
   "metadata": {},
   "outputs": [
    {
     "name": "stdout",
     "output_type": "stream",
     "text": [
      "  ('Unnamed: 0_level_0', 'Squad')  ('Unnamed: 1_level_0', '# Pl')  \\\n",
      "0                          Alavés                              22   \n",
      "1                   Athletic Club                              23   \n",
      "2                 Atlético Madrid                              21   \n",
      "3                       Barcelona                              22   \n",
      "4                           Betis                              25   \n",
      "\n",
      "   ('Unnamed: 2_level_0', 'Age')  ('Unnamed: 3_level_0', 'Poss')  \\\n",
      "0                           27.8                            49.5   \n",
      "1                           27.7                            52.7   \n",
      "2                           27.8                            59.3   \n",
      "3                           24.9                            69.6   \n",
      "4                           27.9                            50.2   \n",
      "\n",
      "   ('Playing Time', 'MP')  ('Playing Time', 'Starts')  \\\n",
      "0                       6                          66   \n",
      "1                       6                          66   \n",
      "2                       6                          66   \n",
      "3                       5                          55   \n",
      "4                       6                          66   \n",
      "\n",
      "   ('Playing Time', 'Min')  ('Playing Time', '90s')  ('Performance', 'Gls')  \\\n",
      "0                      540                      6.0                       5   \n",
      "1                      540                      6.0                       6   \n",
      "2                      540                      6.0                       9   \n",
      "3                      450                      5.0                      15   \n",
      "4                      540                      6.0                       8   \n",
      "\n",
      "   ('Performance', 'Ast')  ...  ('Per 90 Minutes', 'Gls')  \\\n",
      "0                       2  ...                       0.83   \n",
      "1                       1  ...                       1.00   \n",
      "2                       5  ...                       1.50   \n",
      "3                      11  ...                       3.00   \n",
      "4                       7  ...                       1.33   \n",
      "\n",
      "   ('Per 90 Minutes', 'Ast')  ('Per 90 Minutes', 'G+A')  \\\n",
      "0                       0.33                       1.17   \n",
      "1                       0.17                       1.17   \n",
      "2                       0.83                       2.33   \n",
      "3                       2.20                       5.20   \n",
      "4                       1.17                       2.50   \n",
      "\n",
      "   ('Per 90 Minutes', 'G-PK')  ('Per 90 Minutes', 'G+A-PK')  \\\n",
      "0                        0.50                          0.83   \n",
      "1                        0.67                          0.83   \n",
      "2                        1.50                          2.33   \n",
      "3                        2.80                          5.00   \n",
      "4                        1.33                          2.50   \n",
      "\n",
      "   ('Per 90 Minutes', 'xG')  ('Per 90 Minutes', 'xAG')  \\\n",
      "0                      0.82                       0.39   \n",
      "1                      1.41                       0.77   \n",
      "2                      1.83                       1.26   \n",
      "3                      2.33                       1.87   \n",
      "4                      1.51                       1.26   \n",
      "\n",
      "   ('Per 90 Minutes', 'xG+xAG')  ('Per 90 Minutes', 'npxG')  \\\n",
      "0                          1.21                        0.55   \n",
      "1                          2.18                        1.15   \n",
      "2                          3.09                        1.71   \n",
      "3                          4.20                        2.17   \n",
      "4                          2.77                        1.51   \n",
      "\n",
      "   ('Per 90 Minutes', 'npxG+xAG')  \n",
      "0                            0.95  \n",
      "1                            1.92  \n",
      "2                            2.97  \n",
      "3                            4.04  \n",
      "4                            2.77  \n",
      "\n",
      "[5 rows x 32 columns]\n"
     ]
    }
   ],
   "source": [
    "# Abrir parquet en un DataFrame\n",
    "df_ranking = pd.read_parquet(\"../../data/raw/fbref_squads_stats.parquet\")\n",
    "\n",
    "# Eliminar columnas innecesarias\n",
    "# df_ranking = df_ranking.drop(columns=[\"Date\", \"Match Report\", \"Notes\"])\n",
    "print(df_ranking.head())"
   ]
  }
 ],
 "metadata": {
  "kernelspec": {
   "display_name": ".venv (3.12.1)",
   "language": "python",
   "name": "python3"
  },
  "language_info": {
   "codemirror_mode": {
    "name": "ipython",
    "version": 3
   },
   "file_extension": ".py",
   "mimetype": "text/x-python",
   "name": "python",
   "nbconvert_exporter": "python",
   "pygments_lexer": "ipython3",
   "version": "3.12.1"
  }
 },
 "nbformat": 4,
 "nbformat_minor": 5
}
