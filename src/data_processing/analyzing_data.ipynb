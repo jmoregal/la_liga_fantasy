{
 "cells": [
  {
   "cell_type": "code",
   "execution_count": 1,
   "id": "0ac18f62",
   "metadata": {},
   "outputs": [],
   "source": [
    "import pandas as pd\n",
    "from sklearn.preprocessing import OneHotEncoder"
   ]
  },
  {
   "cell_type": "markdown",
   "id": "e50e3b23",
   "metadata": {},
   "source": [
    "### Ranking general"
   ]
  },
  {
   "cell_type": "code",
   "execution_count": 57,
   "id": "6525b9b3",
   "metadata": {},
   "outputs": [
    {
     "name": "stdout",
     "output_type": "stream",
     "text": [
      "Index(['Rk', 'Squad', 'MP', 'W', 'D', 'L', 'GF', 'GA', 'GD', 'Pts', 'Pts/MP',\n",
      "       'xG', 'xGA', 'xGD', 'xGD/90', 'Last 5'],\n",
      "      dtype='object')\n"
     ]
    }
   ],
   "source": [
    "# Abrir parquet en un DataFrame\n",
    "df_ranking = pd.read_parquet(\"../../data/raw/fbref_ranking_general.parquet\")\n",
    "df_final = df_ranking.copy()\n",
    "# Codificacion equipo\n",
    "# data = {'equipo': [\"Real Madrid\", \"Barcelona\", \"Atlético\", \"Sevilla\", \"Betis\",\n",
    "#     \"Villarreal\", \"Real Sociedad\", \"Valencia\", \"Osasuna\", \"Getafe\",\n",
    "#     \"Rayo Vallecano\", \"Celta\", \"Alavés\", \"Las Palmas\", \"Mallorca\",\n",
    "#     \"Granada\", \"Cádiz\", \"Girona\", \"Leganés\", \"Espanyol\"]}\n",
    "\n",
    "# encoder = OneHotEncoder(sparse_output=False)\n",
    "# encoded = encoder.fit_transform(df_ranking[['Squad']])\n",
    "\n",
    "# encoded_df = pd.DataFrame(encoded, columns=encoder.get_feature_names_out(['Squad']))\n",
    "\n",
    "# # Concatenar con el original (opcional)\n",
    "# df_final = pd.concat([df_ranking, encoded_df], axis=1)\n",
    "# df_final = df_final.drop(columns=['Squad']\n",
    "df_ranking = df_ranking.drop(columns=['Notes', 'Attendance', 'Goalkeeper', 'Top Team Scorer'])\n",
    "\n",
    "print(df_ranking.columns)\n"
   ]
  },
  {
   "cell_type": "markdown",
   "id": "1efa232c",
   "metadata": {},
   "source": [
    "### Ranking home/away"
   ]
  },
  {
   "cell_type": "code",
   "execution_count": 16,
   "id": "7bd397f8",
   "metadata": {},
   "outputs": [
    {
     "name": "stdout",
     "output_type": "stream",
     "text": [
      "   Rk            Squad  MP_home  W_home  D_home  L_home  GF_home  GA_home  \\\n",
      "0   1        Barcelona        3       3       0       0       11        1   \n",
      "1   2      Real Madrid        3       3       0       0        5        1   \n",
      "2   3       Villarreal        4       4       0       0       10        1   \n",
      "3   4            Elche        4       3       1       0        6        2   \n",
      "4   5  Atlético Madrid        4       3       1       0       11        5   \n",
      "\n",
      "   GD_home  Pts_home  ...  L_away  GF_away  GA_away  GD_away  Pts_away  \\\n",
      "0       10         9  ...       0       10        4        6        10   \n",
      "1        4         9  ...       1       11        7        4         9   \n",
      "2        9        12  ...       1        3        4       -1         4   \n",
      "3        4        10  ...       0        4        4        0         3   \n",
      "4        6        10  ...       1        3        4       -1         2   \n",
      "\n",
      "   Pts/MP_away  xG_away  xGA_away  xGD_away  xGD/90_away  \n",
      "0         2.50      7.8       4.9       2.9         0.71  \n",
      "1         2.25      9.6       6.5       3.0         0.76  \n",
      "2         1.33      4.0       2.9       1.1         0.36  \n",
      "3         1.00      2.3       3.0      -0.7        -0.23  \n",
      "4         0.67      4.3       2.8       1.5         0.50  \n",
      "\n",
      "[5 rows x 28 columns]\n"
     ]
    }
   ],
   "source": [
    "df_ranking_ha = pd.read_parquet(\"../../data/raw/fbref_ranking_home_away.parquet\")\n",
    "\n",
    "for col in df_ranking_ha.columns:\n",
    "    col_clean = col.strip().replace(\"(\", \"\").replace(\")\", \"\").replace(\"'\", \"\")\n",
    "    parts = [p.strip() for p in col_clean.split(\",\")]\n",
    "    \n",
    "    if len(parts) == 2:\n",
    "        if parts[0] == \"Home\":\n",
    "            new_col = parts[1] + \"_home\"\n",
    "        elif parts[0] == \"Away\":\n",
    "            new_col = parts[1] + \"_away\"\n",
    "        else:\n",
    "            new_col = parts[1]\n",
    "    else:\n",
    "        new_col = parts[0]\n",
    "    \n",
    "    df_ranking_ha = df_ranking_ha.rename(columns={col: new_col})\n",
    "\n",
    "print(df_ranking_ha.head())"
   ]
  },
  {
   "cell_type": "markdown",
   "id": "49ed2736",
   "metadata": {},
   "source": [
    "### Players stats"
   ]
  },
  {
   "cell_type": "code",
   "execution_count": 46,
   "id": "7fd504c0",
   "metadata": {},
   "outputs": [
    {
     "name": "stdout",
     "output_type": "stream",
     "text": [
      "     Pos       Squad     Age  Born MP Starts  Min  90s Gls Ast  ... Ast-90min  \\\n",
      "0  MF,DF  Celta Vigo  19-256  2006  1      0   34  0.4   0   0  ...      0.00   \n",
      "1     DF      Getafe  26-199  1999  3      3  252  2.8   0   0  ...      0.00   \n",
      "2     FW     Sevilla  25-239  2000  4      3  286  3.2   0   1  ...      0.31   \n",
      "3     DF       Elche  24-190  2001  5      5  450  5.0   0   0  ...      0.00   \n",
      "4     GK    Valencia  24-273  2000  6      6  540  6.0   0   0  ...      0.00   \n",
      "\n",
      "  G+A-90min G-PK-90min G+A-PK-90min xG-90min xAG-90min xG+xA-90min npxG-90min  \\\n",
      "0      0.00       0.00         0.00     0.00      0.14        0.14       0.00   \n",
      "1      0.00       0.00         0.00     0.02      0.00        0.02       0.02   \n",
      "2      0.31       0.00         0.31     0.31      0.03        0.34       0.31   \n",
      "3      0.00       0.00         0.00     0.00      0.02        0.02       0.00   \n",
      "4      0.00       0.00         0.00     0.00      0.00        0.00       0.00   \n",
      "\n",
      "  npxG+xAG-90min           player_id  \n",
      "0           0.14  JonesEl-Abdellaoui  \n",
      "1           0.02          AbdelAbqar  \n",
      "2           0.34           AkorAdams  \n",
      "3           0.02    DavidAffengruber  \n",
      "4           0.00   JulenAgirrezabala  \n",
      "\n",
      "[5 rows x 34 columns]\n"
     ]
    }
   ],
   "source": [
    "# Abrir parquet en un DataFrame\n",
    "df_players = pd.read_parquet(\"../../data/raw/fbref_players_stats.parquet\")\n",
    "\n",
    "# Crear player_id\n",
    "df_players['player_id'] = df_players['Player'].str.replace(' ','')\n",
    "\n",
    "# Eliminar columnas innecesarias\n",
    "df_players = df_players.drop(columns=[\"Rk\", \"Nation\", \"Matches\", \"Player\"])\n",
    "\n",
    "print(df_players.head())"
   ]
  },
  {
   "cell_type": "markdown",
   "id": "7cc0385b",
   "metadata": {},
   "source": [
    "### Results"
   ]
  },
  {
   "cell_type": "code",
   "execution_count": 47,
   "id": "ed44569d",
   "metadata": {},
   "outputs": [
    {
     "name": "stdout",
     "output_type": "stream",
     "text": [
      "    Wk  Day        Date   Time        Home   xG Score  xG.1            Away  \\\n",
      "0  1.0  Fri  2025-08-15  19:00      Girona  0.6   1–3   3.4  Rayo Vallecano   \n",
      "1  1.0  Fri  2025-08-15  21:30  Villarreal  2.4   2–0   0.9          Oviedo   \n",
      "2  1.0  Sat  2025-08-16  19:30    Mallorca  0.2   0–3   2.1       Barcelona   \n",
      "3  1.0  Sat  2025-08-16  21:30      Alavés  1.2   2–1   0.9         Levante   \n",
      "4  1.0  Sat  2025-08-16  21:30    Valencia  2.0   1–1   0.8   Real Sociedad   \n",
      "\n",
      "              Referee       match_id  \n",
      "0     Javier Alberola  20250815_GiRa  \n",
      "1     Alejandro Muñíz  20250815_ViOv  \n",
      "2   José Luis Munuera  20250816_MaBa  \n",
      "3        Miguel Sesma  20250816_AlLe  \n",
      "4  Jose Maria Sánchez  20250816_VaRe  \n"
     ]
    }
   ],
   "source": [
    "# Abrir parquet en un DataFrame\n",
    "df_matches = pd.read_parquet(\"../../data/raw/fbref_results.parquet\")\n",
    "# Crear la columna matches_id\n",
    "df_matches['match_id'] = df_matches['Date'].astype(str).str.replace('-','') + '_' + df_matches['Home'].str[:2] + df_matches['Away'].str[:2]\n",
    "\n",
    "# Eliminar columnas innecesarias\n",
    "df_matches = df_matches.drop(columns=[\"Match Report\", \"Notes\", \"Venue\", \"Attendance\"])\n",
    "print(df_matches.head())"
   ]
  },
  {
   "cell_type": "markdown",
   "id": "58be6dc3",
   "metadata": {},
   "source": [
    "### Squads stats"
   ]
  },
  {
   "cell_type": "code",
   "execution_count": 19,
   "id": "4c676e6a",
   "metadata": {},
   "outputs": [
    {
     "name": "stdout",
     "output_type": "stream",
     "text": [
      "  ('Unnamed: 0_level_0', 'Squad')  ('Unnamed: 1_level_0', '# Pl')  \\\n",
      "0                          Alavés                              22   \n",
      "1                   Athletic Club                              23   \n",
      "2                 Atlético Madrid                              21   \n",
      "3                       Barcelona                              22   \n",
      "4                           Betis                              25   \n",
      "\n",
      "   ('Unnamed: 2_level_0', 'Age')  ('Unnamed: 3_level_0', 'Poss')  \\\n",
      "0                           27.8                            49.5   \n",
      "1                           27.7                            52.7   \n",
      "2                           27.8                            59.3   \n",
      "3                           24.9                            69.6   \n",
      "4                           27.9                            50.2   \n",
      "\n",
      "   ('Playing Time', 'MP')  ('Playing Time', 'Starts')  \\\n",
      "0                       6                          66   \n",
      "1                       6                          66   \n",
      "2                       6                          66   \n",
      "3                       5                          55   \n",
      "4                       6                          66   \n",
      "\n",
      "   ('Playing Time', 'Min')  ('Playing Time', '90s')  ('Performance', 'Gls')  \\\n",
      "0                      540                      6.0                       5   \n",
      "1                      540                      6.0                       6   \n",
      "2                      540                      6.0                       9   \n",
      "3                      450                      5.0                      15   \n",
      "4                      540                      6.0                       8   \n",
      "\n",
      "   ('Performance', 'Ast')  ...  ('Per 90 Minutes', 'Gls')  \\\n",
      "0                       2  ...                       0.83   \n",
      "1                       1  ...                       1.00   \n",
      "2                       5  ...                       1.50   \n",
      "3                      11  ...                       3.00   \n",
      "4                       7  ...                       1.33   \n",
      "\n",
      "   ('Per 90 Minutes', 'Ast')  ('Per 90 Minutes', 'G+A')  \\\n",
      "0                       0.33                       1.17   \n",
      "1                       0.17                       1.17   \n",
      "2                       0.83                       2.33   \n",
      "3                       2.20                       5.20   \n",
      "4                       1.17                       2.50   \n",
      "\n",
      "   ('Per 90 Minutes', 'G-PK')  ('Per 90 Minutes', 'G+A-PK')  \\\n",
      "0                        0.50                          0.83   \n",
      "1                        0.67                          0.83   \n",
      "2                        1.50                          2.33   \n",
      "3                        2.80                          5.00   \n",
      "4                        1.33                          2.50   \n",
      "\n",
      "   ('Per 90 Minutes', 'xG')  ('Per 90 Minutes', 'xAG')  \\\n",
      "0                      0.82                       0.39   \n",
      "1                      1.41                       0.77   \n",
      "2                      1.83                       1.26   \n",
      "3                      2.33                       1.87   \n",
      "4                      1.51                       1.26   \n",
      "\n",
      "   ('Per 90 Minutes', 'xG+xAG')  ('Per 90 Minutes', 'npxG')  \\\n",
      "0                          1.21                        0.55   \n",
      "1                          2.18                        1.15   \n",
      "2                          3.09                        1.71   \n",
      "3                          4.20                        2.17   \n",
      "4                          2.77                        1.51   \n",
      "\n",
      "   ('Per 90 Minutes', 'npxG+xAG')  \n",
      "0                            0.95  \n",
      "1                            1.92  \n",
      "2                            2.97  \n",
      "3                            4.04  \n",
      "4                            2.77  \n",
      "\n",
      "[5 rows x 32 columns]\n"
     ]
    }
   ],
   "source": [
    "# Abrir parquet en un DataFrame\n",
    "df_squad = pd.read_parquet(\"../../data/raw/fbref_squads_stats.parquet\")\n",
    "\n",
    "# Eliminar columnas innecesarias\n",
    "# df_ranking = df_ranking.drop(columns=[\"Date\", \"Match Report\", \"Notes\"])\n",
    "print(df_squad.head())"
   ]
  },
  {
   "cell_type": "markdown",
   "id": "3686f7ab",
   "metadata": {},
   "source": [
    "### Player-matches"
   ]
  },
  {
   "cell_type": "code",
   "execution_count": 44,
   "id": "4aae2dbd",
   "metadata": {},
   "outputs": [
    {
     "name": "stdout",
     "output_type": "stream",
     "text": [
      "   Day        Round Venue Result       Squad    Opponent Start  \\\n",
      "0  Sun  Matchweek 1  Home  L 0–2  Celta Vigo      Getafe     N   \n",
      "1  Sat  Matchweek 2  Away  D 1–1  Celta Vigo    Mallorca     N   \n",
      "2  Wed  Matchweek 6  Home  D 1–1  Celta Vigo       Betis     N   \n",
      "3  Sun  Matchweek 3  Home  D 1–1  Celta Vigo  Villarreal     N   \n",
      "4  Sun  Matchweek 4  Home  D 1–1  Celta Vigo      Girona     N   \n",
      "\n",
      "                                   Pos                                  Min  \\\n",
      "0                                RM,RB                                   34   \n",
      "1  On matchday squad, but did not play  On matchday squad, but did not play   \n",
      "2  On matchday squad, but did not play  On matchday squad, but did not play   \n",
      "3  On matchday squad, but did not play  On matchday squad, but did not play   \n",
      "4  On matchday squad, but did not play  On matchday squad, but did not play   \n",
      "\n",
      "                       Performance_Gls  ...  \\\n",
      "0                                    0  ...   \n",
      "1  On matchday squad, but did not play  ...   \n",
      "2  On matchday squad, but did not play  ...   \n",
      "3  On matchday squad, but did not play  ...   \n",
      "4  On matchday squad, but did not play  ...   \n",
      "\n",
      "                            Passes_Cmp                           Passes_Att  \\\n",
      "0                                   21                                   26   \n",
      "1  On matchday squad, but did not play  On matchday squad, but did not play   \n",
      "2  On matchday squad, but did not play  On matchday squad, but did not play   \n",
      "3  On matchday squad, but did not play  On matchday squad, but did not play   \n",
      "4  On matchday squad, but did not play  On matchday squad, but did not play   \n",
      "\n",
      "                           Passes_Cmp%                          Passes_PrgP  \\\n",
      "0                                 80.8                                    0   \n",
      "1  On matchday squad, but did not play  On matchday squad, but did not play   \n",
      "2  On matchday squad, but did not play  On matchday squad, but did not play   \n",
      "3  On matchday squad, but did not play  On matchday squad, but did not play   \n",
      "4  On matchday squad, but did not play  On matchday squad, but did not play   \n",
      "\n",
      "                       Carries_Carries                         Carries_PrgC  \\\n",
      "0                                   19                                    5   \n",
      "1  On matchday squad, but did not play  On matchday squad, but did not play   \n",
      "2  On matchday squad, but did not play  On matchday squad, but did not play   \n",
      "3  On matchday squad, but did not play  On matchday squad, but did not play   \n",
      "4  On matchday squad, but did not play  On matchday squad, but did not play   \n",
      "\n",
      "                          Take-Ons_Att                        Take-Ons_Succ  \\\n",
      "0                                    2                                    0   \n",
      "1  On matchday squad, but did not play  On matchday squad, but did not play   \n",
      "2  On matchday squad, but did not play  On matchday squad, but did not play   \n",
      "3  On matchday squad, but did not play  On matchday squad, but did not play   \n",
      "4  On matchday squad, but did not play  On matchday squad, but did not play   \n",
      "\n",
      "        match_id           player_id  \n",
      "0  20250817_CeGe  JonesEl-Abdellaoui  \n",
      "1  20250823_MaCe  JonesEl-Abdellaoui  \n",
      "2  20250827_CeBe  JonesEl-Abdellaoui  \n",
      "3  20250831_CeVi  JonesEl-Abdellaoui  \n",
      "4  20250914_CeGi  JonesEl-Abdellaoui  \n",
      "\n",
      "[5 rows x 36 columns]\n"
     ]
    }
   ],
   "source": [
    "# Abrir parquet en un DataFrame\n",
    "df_matches_players = pd.read_parquet(\"../../data/raw/fbref_player_matches.parquet\")\n",
    "\n",
    "# Crear match_id\n",
    "df_matches_players['match_id'] = df_matches_players.apply(\n",
    "    lambda x: x['Date'].replace('-','') + '_' + \n",
    "    (x['Squad'][:2] + x['Opponent'][:2] if x['Venue'] == 'Home' else x['Opponent'][:2] + x['Squad'][:2]), \n",
    "    axis=1\n",
    ")\n",
    "\n",
    "# Crear player_id\n",
    "df_matches_players['player_id'] = df_matches_players['Player'].str.replace(' ','')\n",
    "\n",
    "# Eliminar columnas innecesarias\n",
    "df_matches_players = df_matches_players.drop(columns=[\"Date\", \"Match Report\", \"Comp\", \"PlayerLink\", 'Player'])\n",
    "\n",
    "print(df_matches_players.head())"
   ]
  },
  {
   "cell_type": "markdown",
   "id": "bd225dd6",
   "metadata": {},
   "source": [
    "### Mergeado de tablas"
   ]
  },
  {
   "cell_type": "code",
   "execution_count": 61,
   "id": "82ee3188",
   "metadata": {},
   "outputs": [
    {
     "name": "stdout",
     "output_type": "stream",
     "text": [
      "Index(['Day_x', 'Round', 'Venue', 'Result', 'Squad_x', 'Opponent', 'Start',\n",
      "       'Pos_x', 'Min_x', 'Performance_Gls',\n",
      "       ...\n",
      "       'Gls-90min', 'Ast-90min', 'G+A-90min', 'G-PK-90min', 'G+A-PK-90min',\n",
      "       'xG-90min', 'xAG-90min', 'xG+xA-90min', 'npxG-90min', 'npxG+xAG-90min'],\n",
      "      dtype='object', length=111)\n",
      "  Day_x        Round Venue Result     Squad_x    Opponent Start  \\\n",
      "0   Sun  Matchweek 1  Home  L 0–2  Celta Vigo      Getafe     N   \n",
      "1   Sat  Matchweek 2  Away  D 1–1  Celta Vigo    Mallorca     N   \n",
      "2   Wed  Matchweek 6  Home  D 1–1  Celta Vigo       Betis     N   \n",
      "3   Sun  Matchweek 3  Home  D 1–1  Celta Vigo  Villarreal     N   \n",
      "4   Sun  Matchweek 4  Home  D 1–1  Celta Vigo      Girona     N   \n",
      "\n",
      "                                 Pos_x                                Min_x  \\\n",
      "0                                RM,RB                                   34   \n",
      "1  On matchday squad, but did not play  On matchday squad, but did not play   \n",
      "2  On matchday squad, but did not play  On matchday squad, but did not play   \n",
      "3  On matchday squad, but did not play  On matchday squad, but did not play   \n",
      "4  On matchday squad, but did not play  On matchday squad, but did not play   \n",
      "\n",
      "                       Performance_Gls  ... Gls-90min Ast-90min G+A-90min  \\\n",
      "0                                    0  ...      0.00      0.00      0.00   \n",
      "1  On matchday squad, but did not play  ...      0.00      0.00      0.00   \n",
      "2  On matchday squad, but did not play  ...      0.00      0.00      0.00   \n",
      "3  On matchday squad, but did not play  ...      0.00      0.00      0.00   \n",
      "4  On matchday squad, but did not play  ...      0.00      0.00      0.00   \n",
      "\n",
      "  G-PK-90min G+A-PK-90min xG-90min xAG-90min xG+xA-90min npxG-90min  \\\n",
      "0       0.00         0.00     0.00      0.14        0.14       0.00   \n",
      "1       0.00         0.00     0.00      0.14        0.14       0.00   \n",
      "2       0.00         0.00     0.00      0.14        0.14       0.00   \n",
      "3       0.00         0.00     0.00      0.14        0.14       0.00   \n",
      "4       0.00         0.00     0.00      0.14        0.14       0.00   \n",
      "\n",
      "  npxG+xAG-90min  \n",
      "0           0.14  \n",
      "1           0.14  \n",
      "2           0.14  \n",
      "3           0.14  \n",
      "4           0.14  \n",
      "\n",
      "[5 rows x 111 columns]\n"
     ]
    }
   ],
   "source": [
    "df = df_matches_players.merge(df_matches, on=\"match_id\")\n",
    "df = df.merge(df_ranking.add_prefix(\"team_\"), left_on=\"Squad\", right_on=\"team_Squad\", how=\"left\")\n",
    "df = df.merge(df_ranking.add_prefix(\"opp_\"), left_on=\"Opponent\", right_on=\"opp_Squad\", how=\"left\")\n",
    "df = df.merge(df_players, on=\"player_id\")\n",
    "\n",
    "print(df.columns)\n",
    "print(df.head())"
   ]
  },
  {
   "cell_type": "code",
   "execution_count": 64,
   "id": "aa275b71",
   "metadata": {},
   "outputs": [],
   "source": [
    "# Guardar en excel, para visualizar\n",
    "df.to_excel(\"../../data/processed/combined_data.xlsx\", index=False)"
   ]
  }
 ],
 "metadata": {
  "kernelspec": {
   "display_name": "venv (3.10.11)",
   "language": "python",
   "name": "python3"
  },
  "language_info": {
   "codemirror_mode": {
    "name": "ipython",
    "version": 3
   },
   "file_extension": ".py",
   "mimetype": "text/x-python",
   "name": "python",
   "nbconvert_exporter": "python",
   "pygments_lexer": "ipython3",
   "version": "3.10.11"
  }
 },
 "nbformat": 4,
 "nbformat_minor": 5
}
