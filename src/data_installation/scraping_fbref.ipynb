{
 "cells": [
  {
   "cell_type": "code",
   "execution_count": 11,
   "id": "11da5449",
   "metadata": {},
   "outputs": [
    {
     "name": "stdout",
     "output_type": "stream",
     "text": [
      "Successfully retrieved page\n"
     ]
    }
   ],
   "source": [
    "import requests\n",
    "import pandas as pd\n",
    "import warnings\n",
    "# Hide FutureWarnings\n",
    "warnings.simplefilter(action='ignore', category=FutureWarning)\n",
    "\n",
    "# URL for Leeds \n",
    "url = \"https://fbref.com/en/comps/12/stats/players/La-Liga-Stats\"\n",
    "\n",
    "# Sendeing HTTP GET-request to webpage\n",
    "data = requests.get(url)\n",
    "\n",
    "response = data.status_code\n",
    "\n",
    "# check for success response (statuscode 200)\n",
    "if response == 200:\n",
    "    print(\"Successfully retrieved page\")\n",
    "else:\n",
    "    print(f\"Failed to retrieve page. Status code: {response.status_code}\")"
   ]
  },
  {
   "cell_type": "code",
   "execution_count": 15,
   "id": "e8c02517",
   "metadata": {},
   "outputs": [
    {
     "name": "stdout",
     "output_type": "stream",
     "text": [
      "<!DOCTYPE html>\n",
      "<html class=\"no-js\" data-root=\"/home/fb/deploy/www\" data-version=\"klecko-\" lang=\"en\">\n",
      " <head>\n",
      "  <meta charset=\"utf-8\"/>\n",
      "  <meta content=\"ie=edge\" http-equiv=\"x-ua-compatible\"/>\n",
      "  <meta content=\"width=device-width, initial-scale=1.0, maximum-scale=2.0\" name=\"viewport\">\n",
      "   <link href=\"https://cdn.ssref.net/req/202508071\" rel=\"dns-prefetch\"/>\n",
      "   <script>\n",
      "    /* https://docs.osano.com/hc/en-us/articles/22469433444372-Google-Consent-Mode-v2  */\n",
      "  window.dataLayer = window.dataLayer ||\n"
     ]
    }
   ],
   "source": [
    "from bs4 import BeautifulSoup\n",
    "with open(\"../../html.txt\", \"r\", encoding=\"utf-8\") as file:\n",
    "    html_content = file.read()\n",
    "# Create a BeautifulSoup-objekt for navigating in HTML\n",
    "soup = BeautifulSoup(html_content, \"html.parser\")\n",
    "\n",
    "# Print first 500 characters to get an overview\n",
    "print(soup.prettify()[:500]) "
   ]
  },
  {
   "cell_type": "code",
   "execution_count": 16,
   "id": "a20acf1a",
   "metadata": {},
   "outputs": [
    {
     "name": "stdout",
     "output_type": "stream",
     "text": [
      "stats_squads_standard_for\n",
      "stats_squads_standard_against\n",
      "stats_standard\n"
     ]
    }
   ],
   "source": [
    "# finding all tables in page\n",
    "tables = soup.find_all(\"table\") # finding table-elements\n",
    "# print all ids for each table\n",
    "for table in tables:\n",
    "    print(table.get(\"id\")) #print all ids"
   ]
  },
  {
   "cell_type": "code",
   "execution_count": null,
   "id": "32707ad2",
   "metadata": {},
   "outputs": [],
   "source": [
    "table= soup.select(\"#stats_standard\") #using '#' to indicate id we want \n",
    "table= table[0] #soup creates lists, so get first element\n",
    "df=pd.read_html(str(table))[0]\n",
    "df.head()\n",
    "\n",
    "#another strategy using select\n",
    "#table_two=soup.select(\"table#matchlogs_for\") #finding tag(table) and id(\"matchlogs_for\")\n",
    "#table_two=table_two[0]\n",
    "#df=pd.read_html(str(table_two))[0]"
   ]
  }
 ],
 "metadata": {
  "kernelspec": {
   "display_name": ".venv (3.12.1)",
   "language": "python",
   "name": "python3"
  },
  "language_info": {
   "codemirror_mode": {
    "name": "ipython",
    "version": 3
   },
   "file_extension": ".py",
   "mimetype": "text/x-python",
   "name": "python",
   "nbconvert_exporter": "python",
   "pygments_lexer": "ipython3",
   "version": "3.12.1"
  }
 },
 "nbformat": 4,
 "nbformat_minor": 5
}
