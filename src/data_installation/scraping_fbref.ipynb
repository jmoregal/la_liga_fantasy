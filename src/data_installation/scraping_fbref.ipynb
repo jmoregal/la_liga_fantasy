{
 "cells": [
  {
   "cell_type": "code",
   "execution_count": 11,
   "id": "11da5449",
   "metadata": {},
   "outputs": [
    {
     "name": "stdout",
     "output_type": "stream",
     "text": [
      "Successfully retrieved page\n"
     ]
    }
   ],
   "source": [
    "import requests\n",
    "import pandas as pd\n",
    "import warnings\n",
    "# Hide FutureWarnings\n",
    "warnings.simplefilter(action='ignore', category=FutureWarning)\n",
    "\n",
    "# URL for Leeds \n",
    "url = \"https://fbref.com/en/comps/12/stats/players/La-Liga-Stats\"\n",
    "\n",
    "# Sendeing HTTP GET-request to webpage\n",
    "data = requests.get(url)\n",
    "\n",
    "response = data.status_code\n",
    "\n",
    "# check for success response (statuscode 200)\n",
    "if response == 200:\n",
    "    print(\"Successfully retrieved page\")\n",
    "else:\n",
    "    print(f\"Failed to retrieve page. Status code: {response.status_code}\")"
   ]
  },
  {
   "cell_type": "code",
   "execution_count": 1,
   "id": "e8c02517",
   "metadata": {},
   "outputs": [
    {
     "name": "stdout",
     "output_type": "stream",
     "text": [
      "<!DOCTYPE html>\n",
      "<html class=\"no-js\" data-root=\"/home/fb/deploy/www\" data-version=\"klecko-\" lang=\"en\">\n",
      " <head>\n",
      "  <meta charset=\"utf-8\"/>\n",
      "  <meta content=\"ie=edge\" http-equiv=\"x-ua-compatible\"/>\n",
      "  <meta content=\"width=device-width, initial-scale=1.0, maximum-scale=2.0\" name=\"viewport\"/>\n",
      "  <link href=\"https://cdn.ssref.net/req/202508071\" rel=\"dns-prefetch\"/>\n",
      "  <script>\n",
      "   /* https://docs.osano.com/hc/en-us/articles/22469433444372-Google-Consent-Mode-v2  */\n",
      "  window.dataLayer = window.dataLayer ||[]\n"
     ]
    }
   ],
   "source": [
    "from bs4 import BeautifulSoup\n",
    "import pandas as pd\n",
    "with open(\"../../html.txt\", \"r\", encoding=\"utf-8\") as file:\n",
    "    html_content = file.read()\n",
    "# Create a BeautifulSoup-objekt for navigating in HTML\n",
    "soup = BeautifulSoup(html_content, \"lxml\")\n",
    "\n",
    "# Print first 500 characters to get an overview\n",
    "print(soup.prettify()[:500]) "
   ]
  },
  {
   "cell_type": "code",
   "execution_count": 58,
   "id": "a20acf1a",
   "metadata": {},
   "outputs": [
    {
     "name": "stdout",
     "output_type": "stream",
     "text": [
      "stats_squads_standard_for\n",
      "stats_squads_standard_against\n",
      "stats_standard\n"
     ]
    }
   ],
   "source": [
    "# finding all tables in page\n",
    "tables = soup.find_all(\"table\") # finding table-elements\n",
    "# print all ids for each table\n",
    "for table in tables:\n",
    "    print(table.get(\"id\")) #print all ids"
   ]
  },
  {
   "cell_type": "code",
   "execution_count": 3,
   "id": "32707ad2",
   "metadata": {},
   "outputs": [
    {
     "name": "stderr",
     "output_type": "stream",
     "text": [
      "/tmp/ipykernel_3111/3219594612.py:3: FutureWarning: Passing literal html to 'read_html' is deprecated and will be removed in a future version. To read from a literal string, wrap it in a 'StringIO' object.\n",
      "  df=pd.read_html(str(table))[0]\n"
     ]
    },
    {
     "data": {
      "text/html": [
       "<div>\n",
       "<style scoped>\n",
       "    .dataframe tbody tr th:only-of-type {\n",
       "        vertical-align: middle;\n",
       "    }\n",
       "\n",
       "    .dataframe tbody tr th {\n",
       "        vertical-align: top;\n",
       "    }\n",
       "\n",
       "    .dataframe thead tr th {\n",
       "        text-align: left;\n",
       "    }\n",
       "</style>\n",
       "<table border=\"1\" class=\"dataframe\">\n",
       "  <thead>\n",
       "    <tr>\n",
       "      <th></th>\n",
       "      <th>Unnamed: 0_level_0</th>\n",
       "      <th>Unnamed: 1_level_0</th>\n",
       "      <th>Unnamed: 2_level_0</th>\n",
       "      <th>Unnamed: 3_level_0</th>\n",
       "      <th>Unnamed: 4_level_0</th>\n",
       "      <th>Unnamed: 5_level_0</th>\n",
       "      <th>Unnamed: 6_level_0</th>\n",
       "      <th colspan=\"3\" halign=\"left\">Playing Time</th>\n",
       "      <th>...</th>\n",
       "      <th colspan=\"9\" halign=\"left\">Per 90 Minutes</th>\n",
       "      <th>Unnamed: 36_level_0</th>\n",
       "    </tr>\n",
       "    <tr>\n",
       "      <th></th>\n",
       "      <th>Rk</th>\n",
       "      <th>Player</th>\n",
       "      <th>Nation</th>\n",
       "      <th>Pos</th>\n",
       "      <th>Squad</th>\n",
       "      <th>Age</th>\n",
       "      <th>Born</th>\n",
       "      <th>MP</th>\n",
       "      <th>Starts</th>\n",
       "      <th>Min</th>\n",
       "      <th>...</th>\n",
       "      <th>Ast</th>\n",
       "      <th>G+A</th>\n",
       "      <th>G-PK</th>\n",
       "      <th>G+A-PK</th>\n",
       "      <th>xG</th>\n",
       "      <th>xAG</th>\n",
       "      <th>xG+xAG</th>\n",
       "      <th>npxG</th>\n",
       "      <th>npxG+xAG</th>\n",
       "      <th>Matches</th>\n",
       "    </tr>\n",
       "  </thead>\n",
       "  <tbody>\n",
       "    <tr>\n",
       "      <th>0</th>\n",
       "      <td>1</td>\n",
       "      <td>Jones El-Abdellaoui</td>\n",
       "      <td>ma MAR</td>\n",
       "      <td>MF,DF</td>\n",
       "      <td>Celta Vigo</td>\n",
       "      <td>19-256</td>\n",
       "      <td>2006</td>\n",
       "      <td>1</td>\n",
       "      <td>0</td>\n",
       "      <td>34</td>\n",
       "      <td>...</td>\n",
       "      <td>0.00</td>\n",
       "      <td>0.00</td>\n",
       "      <td>0.00</td>\n",
       "      <td>0.00</td>\n",
       "      <td>0.00</td>\n",
       "      <td>0.14</td>\n",
       "      <td>0.14</td>\n",
       "      <td>0.00</td>\n",
       "      <td>0.14</td>\n",
       "      <td>Matches</td>\n",
       "    </tr>\n",
       "    <tr>\n",
       "      <th>1</th>\n",
       "      <td>2</td>\n",
       "      <td>Abdel Abqar</td>\n",
       "      <td>ma MAR</td>\n",
       "      <td>DF</td>\n",
       "      <td>Getafe</td>\n",
       "      <td>26-199</td>\n",
       "      <td>1999</td>\n",
       "      <td>3</td>\n",
       "      <td>3</td>\n",
       "      <td>252</td>\n",
       "      <td>...</td>\n",
       "      <td>0.00</td>\n",
       "      <td>0.00</td>\n",
       "      <td>0.00</td>\n",
       "      <td>0.00</td>\n",
       "      <td>0.02</td>\n",
       "      <td>0.00</td>\n",
       "      <td>0.02</td>\n",
       "      <td>0.02</td>\n",
       "      <td>0.02</td>\n",
       "      <td>Matches</td>\n",
       "    </tr>\n",
       "    <tr>\n",
       "      <th>2</th>\n",
       "      <td>3</td>\n",
       "      <td>Akor Adams</td>\n",
       "      <td>ng NGA</td>\n",
       "      <td>FW</td>\n",
       "      <td>Sevilla</td>\n",
       "      <td>25-239</td>\n",
       "      <td>2000</td>\n",
       "      <td>4</td>\n",
       "      <td>3</td>\n",
       "      <td>286</td>\n",
       "      <td>...</td>\n",
       "      <td>0.31</td>\n",
       "      <td>0.31</td>\n",
       "      <td>0.00</td>\n",
       "      <td>0.31</td>\n",
       "      <td>0.31</td>\n",
       "      <td>0.03</td>\n",
       "      <td>0.34</td>\n",
       "      <td>0.31</td>\n",
       "      <td>0.34</td>\n",
       "      <td>Matches</td>\n",
       "    </tr>\n",
       "    <tr>\n",
       "      <th>3</th>\n",
       "      <td>4</td>\n",
       "      <td>David Affengruber</td>\n",
       "      <td>at AUT</td>\n",
       "      <td>DF</td>\n",
       "      <td>Elche</td>\n",
       "      <td>24-190</td>\n",
       "      <td>2001</td>\n",
       "      <td>5</td>\n",
       "      <td>5</td>\n",
       "      <td>450</td>\n",
       "      <td>...</td>\n",
       "      <td>0.00</td>\n",
       "      <td>0.00</td>\n",
       "      <td>0.00</td>\n",
       "      <td>0.00</td>\n",
       "      <td>0.00</td>\n",
       "      <td>0.02</td>\n",
       "      <td>0.02</td>\n",
       "      <td>0.00</td>\n",
       "      <td>0.02</td>\n",
       "      <td>Matches</td>\n",
       "    </tr>\n",
       "    <tr>\n",
       "      <th>4</th>\n",
       "      <td>5</td>\n",
       "      <td>Julen Agirrezabala</td>\n",
       "      <td>es ESP</td>\n",
       "      <td>GK</td>\n",
       "      <td>Valencia</td>\n",
       "      <td>24-273</td>\n",
       "      <td>2000</td>\n",
       "      <td>6</td>\n",
       "      <td>6</td>\n",
       "      <td>540</td>\n",
       "      <td>...</td>\n",
       "      <td>0.00</td>\n",
       "      <td>0.00</td>\n",
       "      <td>0.00</td>\n",
       "      <td>0.00</td>\n",
       "      <td>0.00</td>\n",
       "      <td>0.00</td>\n",
       "      <td>0.00</td>\n",
       "      <td>0.00</td>\n",
       "      <td>0.00</td>\n",
       "      <td>Matches</td>\n",
       "    </tr>\n",
       "  </tbody>\n",
       "</table>\n",
       "<p>5 rows × 37 columns</p>\n",
       "</div>"
      ],
      "text/plain": [
       "  Unnamed: 0_level_0   Unnamed: 1_level_0 Unnamed: 2_level_0  \\\n",
       "                  Rk               Player             Nation   \n",
       "0                  1  Jones El-Abdellaoui             ma MAR   \n",
       "1                  2          Abdel Abqar             ma MAR   \n",
       "2                  3           Akor Adams             ng NGA   \n",
       "3                  4    David Affengruber             at AUT   \n",
       "4                  5   Julen Agirrezabala             es ESP   \n",
       "\n",
       "  Unnamed: 3_level_0 Unnamed: 4_level_0 Unnamed: 5_level_0 Unnamed: 6_level_0  \\\n",
       "                 Pos              Squad                Age               Born   \n",
       "0              MF,DF         Celta Vigo             19-256               2006   \n",
       "1                 DF             Getafe             26-199               1999   \n",
       "2                 FW            Sevilla             25-239               2000   \n",
       "3                 DF              Elche             24-190               2001   \n",
       "4                 GK           Valencia             24-273               2000   \n",
       "\n",
       "  Playing Time              ... Per 90 Minutes                                 \\\n",
       "            MP Starts  Min  ...            Ast   G+A  G-PK G+A-PK    xG   xAG   \n",
       "0            1      0   34  ...           0.00  0.00  0.00   0.00  0.00  0.14   \n",
       "1            3      3  252  ...           0.00  0.00  0.00   0.00  0.02  0.00   \n",
       "2            4      3  286  ...           0.31  0.31  0.00   0.31  0.31  0.03   \n",
       "3            5      5  450  ...           0.00  0.00  0.00   0.00  0.00  0.02   \n",
       "4            6      6  540  ...           0.00  0.00  0.00   0.00  0.00  0.00   \n",
       "\n",
       "                        Unnamed: 36_level_0  \n",
       "  xG+xAG  npxG npxG+xAG             Matches  \n",
       "0   0.14  0.00     0.14             Matches  \n",
       "1   0.02  0.02     0.02             Matches  \n",
       "2   0.34  0.31     0.34             Matches  \n",
       "3   0.02  0.00     0.02             Matches  \n",
       "4   0.00  0.00     0.00             Matches  \n",
       "\n",
       "[5 rows x 37 columns]"
      ]
     },
     "execution_count": 3,
     "metadata": {},
     "output_type": "execute_result"
    }
   ],
   "source": [
    "# table= soup.select(\"#stats_standard\") #using '#' to indicate id we want \n",
    "table= tables[2] #soup creates lists, so get first element\n",
    "df=pd.read_html(str(table))[0]\n",
    "df.head()\n"
   ]
  },
  {
   "cell_type": "code",
   "execution_count": 4,
   "id": "637065ce",
   "metadata": {},
   "outputs": [],
   "source": [
    "rows = []\n",
    "for tr in table.find_all(\"tr\"):\n",
    "    row = []\n",
    "    for td in tr.find_all([\"td\", \"th\"]):\n",
    "        link = td.find(\"a\")\n",
    "        if link:\n",
    "            # Guardar tanto el texto como el link\n",
    "            row.append((link.text.strip(), link[\"href\"]))\n",
    "        else:\n",
    "            row.append(td.get_text(strip=True))\n",
    "    rows.append(row)"
   ]
  },
  {
   "cell_type": "code",
   "execution_count": 54,
   "id": "282f10be",
   "metadata": {},
   "outputs": [],
   "source": [
    "df = pd.DataFrame(rows)\n",
    "# print(df.head())"
   ]
  },
  {
   "cell_type": "code",
   "execution_count": 55,
   "id": "4c91b921",
   "metadata": {},
   "outputs": [],
   "source": [
    "# print(df.head()) \n",
    "\n",
    "df = df.rename(columns = {0: \"Rk\", 1: \"Player\", 2: \"Nation\", 3: \"Pos\", 4: \"Squad\", 5: \"Age\", 6: \"Born\", 7: \"MP\", 8: \"Starts\", 9: \"Min\", 10: \"90s\", 11: \"Gls\", 12: \"Ast\", 13: \"G+A\", 14: \"G-PK\", 15: \"PK\", 16: \"PKatt\", 17: \"CrdY\", 18: \"CrdR\", 19: \"xG\", 20: \"npxG\", 21: \"xAG\", 22: \"npxG+xAG\", 23: \"PrgC\", 24: \"PrgP\", 25: \"PrgR\", 26:\"Gls-90min\", 27:\"Ast-90min\", 28:\"G+A-90min\", 29:\"G-PK-90min\", 30:\"G+A-PK-90min\", 31:\"xG-90min\", 32:\"xAG-90min\", 33:\"xG+xA-90min\", 34:\"npxG-90min\", 35:\"npxG+xAG-90min\", 36:\"Matches\"})\n",
    "                                                                                          \n",
    "# print(df[1])\n",
    "# print(df.iloc[3])"
   ]
  },
  {
   "cell_type": "code",
   "execution_count": 56,
   "id": "d3377824",
   "metadata": {},
   "outputs": [],
   "source": [
    "#preprocess data\n",
    "df.Player = df.Player.apply(lambda x: x[0] if isinstance(x, tuple) else x)\n",
    "df.Nation = df.Nation.apply(lambda x: x[0] if isinstance(x, tuple) else x)\n",
    "df.Squad = df.Squad.apply(lambda x: x[0] if isinstance(x, tuple) else x)\n",
    "df.Matches = df.Matches.apply(lambda x: x[1] if isinstance(x, tuple) else x)\n",
    "\n",
    "df = df.drop([0, 1])\n",
    "df = df.reset_index(drop=True)\n"
   ]
  },
  {
   "cell_type": "code",
   "execution_count": 57,
   "id": "02b81882",
   "metadata": {},
   "outputs": [
    {
     "name": "stdout",
     "output_type": "stream",
     "text": [
      "  Rk               Player  Nation    Pos       Squad     Age  Born MP Starts  \\\n",
      "0  1  Jones El-Abdellaoui  ma MAR  MF,DF  Celta Vigo  19-256  2006  1      0   \n",
      "1  2          Abdel Abqar  ma MAR     DF      Getafe  26-199  1999  3      3   \n",
      "2  3           Akor Adams  ng NGA     FW     Sevilla  25-239  2000  4      3   \n",
      "3  4    David Affengruber  at AUT     DF       Elche  24-190  2001  5      5   \n",
      "4  5   Julen Agirrezabala  es ESP     GK    Valencia  24-273  2000  6      6   \n",
      "\n",
      "   Min  ... Ast-90min G+A-90min G-PK-90min G+A-PK-90min xG-90min xAG-90min  \\\n",
      "0   34  ...      0.00      0.00       0.00         0.00     0.00      0.14   \n",
      "1  252  ...      0.00      0.00       0.00         0.00     0.02      0.00   \n",
      "2  286  ...      0.31      0.31       0.00         0.31     0.31      0.03   \n",
      "3  450  ...      0.00      0.00       0.00         0.00     0.00      0.02   \n",
      "4  540  ...      0.00      0.00       0.00         0.00     0.00      0.00   \n",
      "\n",
      "  xG+xA-90min npxG-90min npxG+xAG-90min  \\\n",
      "0        0.14       0.00           0.14   \n",
      "1        0.02       0.02           0.02   \n",
      "2        0.34       0.31           0.34   \n",
      "3        0.02       0.00           0.02   \n",
      "4        0.00       0.00           0.00   \n",
      "\n",
      "                                             Matches  \n",
      "0  /en/players/29dd3b2e/matchlogs/2025-2026/summa...  \n",
      "1  /en/players/2bc7f211/matchlogs/2025-2026/summa...  \n",
      "2  /en/players/2ccd39ed/matchlogs/2025-2026/summa...  \n",
      "3  /en/players/4b00cd47/matchlogs/2025-2026/summa...  \n",
      "4  /en/players/a2c1a8d3/matchlogs/2025-2026/summa...  \n",
      "\n",
      "[5 rows x 37 columns]\n"
     ]
    }
   ],
   "source": [
    "print(df.head())"
   ]
  },
  {
   "cell_type": "code",
   "execution_count": 28,
   "id": "76acbf2a",
   "metadata": {},
   "outputs": [],
   "source": [
    "import os\n",
    "import pandas as pd\n",
    "import requests\n",
    "import time\n",
    "import random\n",
    "from tqdm import tqdm  # para barra de progreso\n",
    "\n",
    "def player_matches_scrap(players_df, save_path='data/raw/fbref_player_matches.parquet'):\n",
    "    \"\"\"\n",
    "    Scrap de partidos de jugadores de FBref y guarda un DataFrame consolidado en Parquet.\n",
    "    Muestra barra de progreso con tiempo estimado restante.\n",
    "    \"\"\"\n",
    "    all_player_matches = []\n",
    "    headers = {\"User-Agent\": \"Mozilla/5.0\"}\n",
    "    os.makedirs(os.path.dirname(save_path), exist_ok=True)\n",
    "\n",
    "    total_players = len(players_df)\n",
    "    start_time = time.time()\n",
    "\n",
    "    # tqdm para barra de progreso\n",
    "    for i, row in enumerate(tqdm(players_df.itertuples(index=False), total=total_players, desc=\"Scraping jugadores\")):\n",
    "        # print(i)\n",
    "        # if i==2:\n",
    "        #     break\n",
    "        player_name = getattr(row, \"Player\")\n",
    "        url = getattr(row, \"Matches\")\n",
    "\n",
    "        if pd.isna(url):\n",
    "            continue\n",
    "\n",
    "        full_url = f\"https://fbref.com{url}\"\n",
    "        response = requests.get(full_url, headers=headers)\n",
    "        if response.status_code != 200:\n",
    "            print(f\"⚠️ No se pudo obtener {player_name}, respuesta {response.status_code}\")\n",
    "            continue\n",
    "\n",
    "        tables = pd.read_html(response.text)\n",
    "        if len(tables) == 0:\n",
    "            continue\n",
    "\n",
    "        df_matches = tables[0]\n",
    "\n",
    "        # 🔹 Aplanar columnas MultiIndex y limpiar nombres\n",
    "        if isinstance(df_matches.columns, pd.MultiIndex):\n",
    "            new_cols = []\n",
    "            for col in df_matches.columns:\n",
    "                if col[0].startswith(\"Unnamed\"):\n",
    "                    new_cols.append(col[1])\n",
    "                else:\n",
    "                    new_cols.append(f\"{col[0]}_{col[1]}\" if col[1] else col[0])\n",
    "            df_matches.columns = new_cols\n",
    "\n",
    "        # 🔹 Añadir contexto del jugador\n",
    "        df_matches[\"Player\"] = player_name\n",
    "        df_matches[\"PlayerLink\"] = url\n",
    "\n",
    "        all_player_matches.append(df_matches)\n",
    "\n",
    "        # 🔹 Retraso aleatorio\n",
    "        time.sleep(random.uniform(3, 8))\n",
    "\n",
    "        # 🔹 Actualizar tiempo estimado restante en tqdm\n",
    "        elapsed = time.time() - start_time\n",
    "        avg_time_per_player = elapsed / (i + 1)\n",
    "        remaining_time_sec = avg_time_per_player * (total_players - (i + 1))\n",
    "        mins, secs = divmod(int(remaining_time_sec), 60)\n",
    "        tqdm.write(f\"⏳ Tiempo estimado restante: {mins}m {secs}s\")\n",
    "\n",
    "    # 🔹 Concatenar todo\n",
    "    if all_player_matches:\n",
    "        big_df = pd.concat(all_player_matches, ignore_index=True)\n",
    "\n",
    "        # 🔹 Conversión segura de tipos para Parquet\n",
    "        for col in big_df.columns:\n",
    "            try:\n",
    "                big_df[col] = pd.to_numeric(big_df[col])\n",
    "            except:\n",
    "                big_df[col] = big_df[col].astype(str)\n",
    "\n",
    "        big_df.to_parquet(save_path, index=False)\n",
    "        print(f\"✔ Guardada tabla consolidada en {save_path}\")\n",
    "        return big_df\n",
    "    else:\n",
    "        print(\"⚠️ No se pudo obtener ningún partido\")\n",
    "        return pd.DataFrame()\n"
   ]
  },
  {
   "cell_type": "code",
   "execution_count": null,
   "id": "3d66a05a",
   "metadata": {},
   "outputs": [
    {
     "name": "stderr",
     "output_type": "stream",
     "text": [
      "Scraping jugadores:   0%|          | 0/479 [00:00<?, ?it/s]"
     ]
    },
    {
     "name": "stderr",
     "output_type": "stream",
     "text": [
      "/tmp/ipykernel_2900/160472000.py:37: FutureWarning: Passing literal html to 'read_html' is deprecated and will be removed in a future version. To read from a literal string, wrap it in a 'StringIO' object.\n",
      "  tables = pd.read_html(response.text)\n",
      "Scraping jugadores:   0%|          | 1/479 [00:04<34:59,  4.39s/it]/tmp/ipykernel_2900/160472000.py:37: FutureWarning: Passing literal html to 'read_html' is deprecated and will be removed in a future version. To read from a literal string, wrap it in a 'StringIO' object.\n",
      "  tables = pd.read_html(response.text)\n"
     ]
    },
    {
     "name": "stdout",
     "output_type": "stream",
     "text": [
      "⏳ Tiempo estimado restante: 35m 1s\n"
     ]
    },
    {
     "name": "stderr",
     "output_type": "stream",
     "text": [
      "Scraping jugadores:   0%|          | 2/479 [00:09<37:58,  4.78s/it]/tmp/ipykernel_2900/160472000.py:37: FutureWarning: Passing literal html to 'read_html' is deprecated and will be removed in a future version. To read from a literal string, wrap it in a 'StringIO' object.\n",
      "  tables = pd.read_html(response.text)\n"
     ]
    },
    {
     "name": "stdout",
     "output_type": "stream",
     "text": [
      "⏳ Tiempo estimado restante: 37m 31s\n"
     ]
    },
    {
     "name": "stderr",
     "output_type": "stream",
     "text": [
      "Scraping jugadores:   1%|          | 3/479 [00:15<43:54,  5.53s/it]/tmp/ipykernel_2900/160472000.py:37: FutureWarning: Passing literal html to 'read_html' is deprecated and will be removed in a future version. To read from a literal string, wrap it in a 'StringIO' object.\n",
      "  tables = pd.read_html(response.text)\n"
     ]
    },
    {
     "name": "stdout",
     "output_type": "stream",
     "text": [
      "⏳ Tiempo estimado restante: 41m 59s\n"
     ]
    },
    {
     "name": "stderr",
     "output_type": "stream",
     "text": [
      "Scraping jugadores:   1%|          | 4/479 [00:22<46:46,  5.91s/it]/tmp/ipykernel_2900/160472000.py:37: FutureWarning: Passing literal html to 'read_html' is deprecated and will be removed in a future version. To read from a literal string, wrap it in a 'StringIO' object.\n",
      "  tables = pd.read_html(response.text)\n"
     ]
    },
    {
     "name": "stdout",
     "output_type": "stream",
     "text": [
      "⏳ Tiempo estimado restante: 44m 14s\n"
     ]
    },
    {
     "name": "stderr",
     "output_type": "stream",
     "text": [
      "Scraping jugadores:   1%|          | 5/479 [00:26<42:14,  5.35s/it]/tmp/ipykernel_2900/160472000.py:37: FutureWarning: Passing literal html to 'read_html' is deprecated and will be removed in a future version. To read from a literal string, wrap it in a 'StringIO' object.\n",
      "  tables = pd.read_html(response.text)\n"
     ]
    },
    {
     "name": "stdout",
     "output_type": "stream",
     "text": [
      "⏳ Tiempo estimado restante: 42m 12s\n"
     ]
    },
    {
     "name": "stderr",
     "output_type": "stream",
     "text": [
      "Scraping jugadores:   1%|▏         | 6/479 [00:31<41:51,  5.31s/it]/tmp/ipykernel_2900/160472000.py:37: FutureWarning: Passing literal html to 'read_html' is deprecated and will be removed in a future version. To read from a literal string, wrap it in a 'StringIO' object.\n",
      "  tables = pd.read_html(response.text)\n"
     ]
    },
    {
     "name": "stdout",
     "output_type": "stream",
     "text": [
      "⏳ Tiempo estimado restante: 41m 58s\n"
     ]
    },
    {
     "name": "stderr",
     "output_type": "stream",
     "text": [
      "Scraping jugadores:   1%|▏         | 7/479 [00:36<40:05,  5.10s/it]/tmp/ipykernel_2900/160472000.py:37: FutureWarning: Passing literal html to 'read_html' is deprecated and will be removed in a future version. To read from a literal string, wrap it in a 'StringIO' object.\n",
      "  tables = pd.read_html(response.text)\n"
     ]
    },
    {
     "name": "stdout",
     "output_type": "stream",
     "text": [
      "⏳ Tiempo estimado restante: 41m 8s\n"
     ]
    },
    {
     "name": "stderr",
     "output_type": "stream",
     "text": [
      "Scraping jugadores:   2%|▏         | 8/479 [00:43<44:02,  5.61s/it]/tmp/ipykernel_2900/160472000.py:37: FutureWarning: Passing literal html to 'read_html' is deprecated and will be removed in a future version. To read from a literal string, wrap it in a 'StringIO' object.\n",
      "  tables = pd.read_html(response.text)\n"
     ]
    },
    {
     "name": "stdout",
     "output_type": "stream",
     "text": [
      "⏳ Tiempo estimado restante: 42m 30s\n"
     ]
    },
    {
     "name": "stderr",
     "output_type": "stream",
     "text": [
      "Scraping jugadores:   2%|▏         | 9/479 [00:51<49:21,  6.30s/it]/tmp/ipykernel_2900/160472000.py:37: FutureWarning: Passing literal html to 'read_html' is deprecated and will be removed in a future version. To read from a literal string, wrap it in a 'StringIO' object.\n",
      "  tables = pd.read_html(response.text)\n"
     ]
    },
    {
     "name": "stdout",
     "output_type": "stream",
     "text": [
      "⏳ Tiempo estimado restante: 44m 30s\n"
     ]
    },
    {
     "name": "stderr",
     "output_type": "stream",
     "text": [
      "Scraping jugadores:   2%|▏         | 10/479 [00:56<46:32,  5.95s/it]/tmp/ipykernel_2900/160472000.py:37: FutureWarning: Passing literal html to 'read_html' is deprecated and will be removed in a future version. To read from a literal string, wrap it in a 'StringIO' object.\n",
      "  tables = pd.read_html(response.text)\n"
     ]
    },
    {
     "name": "stdout",
     "output_type": "stream",
     "text": [
      "⏳ Tiempo estimado restante: 44m 1s\n"
     ]
    },
    {
     "name": "stderr",
     "output_type": "stream",
     "text": [
      "Scraping jugadores:   2%|▏         | 11/479 [01:03<49:52,  6.40s/it]/tmp/ipykernel_2900/160472000.py:37: FutureWarning: Passing literal html to 'read_html' is deprecated and will be removed in a future version. To read from a literal string, wrap it in a 'StringIO' object.\n",
      "  tables = pd.read_html(response.text)\n"
     ]
    },
    {
     "name": "stdout",
     "output_type": "stream",
     "text": [
      "⏳ Tiempo estimado restante: 45m 10s\n"
     ]
    },
    {
     "name": "stderr",
     "output_type": "stream",
     "text": [
      "Scraping jugadores:   3%|▎         | 12/479 [01:08<46:40,  6.00s/it]/tmp/ipykernel_2900/160472000.py:37: FutureWarning: Passing literal html to 'read_html' is deprecated and will be removed in a future version. To read from a literal string, wrap it in a 'StringIO' object.\n",
      "  tables = pd.read_html(response.text)\n"
     ]
    },
    {
     "name": "stdout",
     "output_type": "stream",
     "text": [
      "⏳ Tiempo estimado restante: 44m 37s\n"
     ]
    },
    {
     "name": "stderr",
     "output_type": "stream",
     "text": [
      "Scraping jugadores:   3%|▎         | 13/479 [01:13<44:40,  5.75s/it]/tmp/ipykernel_2900/160472000.py:37: FutureWarning: Passing literal html to 'read_html' is deprecated and will be removed in a future version. To read from a literal string, wrap it in a 'StringIO' object.\n",
      "  tables = pd.read_html(response.text)\n"
     ]
    },
    {
     "name": "stdout",
     "output_type": "stream",
     "text": [
      "⏳ Tiempo estimado restante: 44m 12s\n"
     ]
    },
    {
     "name": "stderr",
     "output_type": "stream",
     "text": [
      "Scraping jugadores:   3%|▎         | 14/479 [01:18<42:11,  5.44s/it]/tmp/ipykernel_2900/160472000.py:37: FutureWarning: Passing literal html to 'read_html' is deprecated and will be removed in a future version. To read from a literal string, wrap it in a 'StringIO' object.\n",
      "  tables = pd.read_html(response.text)\n"
     ]
    },
    {
     "name": "stdout",
     "output_type": "stream",
     "text": [
      "⏳ Tiempo estimado restante: 43m 34s\n"
     ]
    },
    {
     "name": "stderr",
     "output_type": "stream",
     "text": [
      "Scraping jugadores:   3%|▎         | 15/479 [01:25<46:15,  5.98s/it]/tmp/ipykernel_2900/160472000.py:37: FutureWarning: Passing literal html to 'read_html' is deprecated and will be removed in a future version. To read from a literal string, wrap it in a 'StringIO' object.\n",
      "  tables = pd.read_html(response.text)\n"
     ]
    },
    {
     "name": "stdout",
     "output_type": "stream",
     "text": [
      "⏳ Tiempo estimado restante: 44m 18s\n"
     ]
    },
    {
     "name": "stderr",
     "output_type": "stream",
     "text": [
      "Scraping jugadores:   3%|▎         | 16/479 [01:33<48:48,  6.33s/it]/tmp/ipykernel_2900/160472000.py:37: FutureWarning: Passing literal html to 'read_html' is deprecated and will be removed in a future version. To read from a literal string, wrap it in a 'StringIO' object.\n",
      "  tables = pd.read_html(response.text)\n"
     ]
    },
    {
     "name": "stdout",
     "output_type": "stream",
     "text": [
      "⏳ Tiempo estimado restante: 44m 53s\n"
     ]
    },
    {
     "name": "stderr",
     "output_type": "stream",
     "text": [
      "Scraping jugadores:   4%|▎         | 17/479 [01:37<45:22,  5.89s/it]/tmp/ipykernel_2900/160472000.py:37: FutureWarning: Passing literal html to 'read_html' is deprecated and will be removed in a future version. To read from a literal string, wrap it in a 'StringIO' object.\n",
      "  tables = pd.read_html(response.text)\n"
     ]
    },
    {
     "name": "stdout",
     "output_type": "stream",
     "text": [
      "⏳ Tiempo estimado restante: 44m 21s\n"
     ]
    },
    {
     "name": "stderr",
     "output_type": "stream",
     "text": [
      "Scraping jugadores:   4%|▍         | 18/479 [01:44<47:17,  6.16s/it]/tmp/ipykernel_2900/160472000.py:37: FutureWarning: Passing literal html to 'read_html' is deprecated and will be removed in a future version. To read from a literal string, wrap it in a 'StringIO' object.\n",
      "  tables = pd.read_html(response.text)\n"
     ]
    },
    {
     "name": "stdout",
     "output_type": "stream",
     "text": [
      "⏳ Tiempo estimado restante: 44m 41s\n"
     ]
    },
    {
     "name": "stderr",
     "output_type": "stream",
     "text": [
      "Scraping jugadores:   4%|▍         | 19/479 [01:48<42:23,  5.53s/it]/tmp/ipykernel_2900/160472000.py:37: FutureWarning: Passing literal html to 'read_html' is deprecated and will be removed in a future version. To read from a literal string, wrap it in a 'StringIO' object.\n",
      "  tables = pd.read_html(response.text)\n"
     ]
    },
    {
     "name": "stdout",
     "output_type": "stream",
     "text": [
      "⏳ Tiempo estimado restante: 43m 53s\n"
     ]
    },
    {
     "name": "stderr",
     "output_type": "stream",
     "text": [
      "Scraping jugadores:   4%|▍         | 20/479 [01:56<47:37,  6.23s/it]/tmp/ipykernel_2900/160472000.py:37: FutureWarning: Passing literal html to 'read_html' is deprecated and will be removed in a future version. To read from a literal string, wrap it in a 'StringIO' object.\n",
      "  tables = pd.read_html(response.text)\n"
     ]
    },
    {
     "name": "stdout",
     "output_type": "stream",
     "text": [
      "⏳ Tiempo estimado restante: 44m 36s\n"
     ]
    },
    {
     "name": "stderr",
     "output_type": "stream",
     "text": [
      "Scraping jugadores:   4%|▍         | 21/479 [02:00<41:33,  5.44s/it]/tmp/ipykernel_2900/160472000.py:37: FutureWarning: Passing literal html to 'read_html' is deprecated and will be removed in a future version. To read from a literal string, wrap it in a 'StringIO' object.\n",
      "  tables = pd.read_html(response.text)\n"
     ]
    },
    {
     "name": "stdout",
     "output_type": "stream",
     "text": [
      "⏳ Tiempo estimado restante: 43m 42s\n"
     ]
    },
    {
     "name": "stderr",
     "output_type": "stream",
     "text": [
      "Scraping jugadores:   5%|▍         | 22/479 [02:05<41:12,  5.41s/it]/tmp/ipykernel_2900/160472000.py:37: FutureWarning: Passing literal html to 'read_html' is deprecated and will be removed in a future version. To read from a literal string, wrap it in a 'StringIO' object.\n",
      "  tables = pd.read_html(response.text)\n"
     ]
    },
    {
     "name": "stdout",
     "output_type": "stream",
     "text": [
      "⏳ Tiempo estimado restante: 43m 28s\n"
     ]
    },
    {
     "name": "stderr",
     "output_type": "stream",
     "text": [
      "Scraping jugadores:   5%|▍         | 23/479 [02:08<35:53,  4.72s/it]/tmp/ipykernel_2900/160472000.py:37: FutureWarning: Passing literal html to 'read_html' is deprecated and will be removed in a future version. To read from a literal string, wrap it in a 'StringIO' object.\n",
      "  tables = pd.read_html(response.text)\n"
     ]
    },
    {
     "name": "stdout",
     "output_type": "stream",
     "text": [
      "⏳ Tiempo estimado restante: 42m 31s\n"
     ]
    }
   ],
   "source": [
    "players_stats = pd.read_parquet(\"../../data/raw/fbref_players_stats.parquet\")\n",
    "tables = player_matches_scrap(players_stats)\n",
    "\n",
    "player_matches = tables\n",
    "player_matches.to_parquet(\"../../data/raw/fbref_player_matches.parquet\", index=False)"
   ]
  },
  {
   "cell_type": "code",
   "execution_count": 24,
   "id": "793cc72a",
   "metadata": {},
   "outputs": [
    {
     "name": "stdout",
     "output_type": "stream",
     "text": [
      "         Date  Day     Comp        Round Venue Result       Squad    Opponent  \\\n",
      "0  2025-08-17  Sun  La Liga  Matchweek 1  Home  L 0–2  Celta Vigo      Getafe   \n",
      "1  2025-08-23  Sat  La Liga  Matchweek 2  Away  D 1–1  Celta Vigo    Mallorca   \n",
      "2  2025-08-27  Wed  La Liga  Matchweek 6  Home  D 1–1  Celta Vigo       Betis   \n",
      "3  2025-08-31  Sun  La Liga  Matchweek 3  Home  D 1–1  Celta Vigo  Villarreal   \n",
      "4  2025-09-14  Sun  La Liga  Matchweek 4  Home  D 1–1  Celta Vigo      Girona   \n",
      "\n",
      "  Start                                  Pos  ...  \\\n",
      "0     N                                RM,RB  ...   \n",
      "1     N  On matchday squad, but did not play  ...   \n",
      "2     N  On matchday squad, but did not play  ...   \n",
      "3     N  On matchday squad, but did not play  ...   \n",
      "4     N  On matchday squad, but did not play  ...   \n",
      "\n",
      "                            Passes_Att                          Passes_Cmp%  \\\n",
      "0                                   26                                 80.8   \n",
      "1  On matchday squad, but did not play  On matchday squad, but did not play   \n",
      "2  On matchday squad, but did not play  On matchday squad, but did not play   \n",
      "3  On matchday squad, but did not play  On matchday squad, but did not play   \n",
      "4  On matchday squad, but did not play  On matchday squad, but did not play   \n",
      "\n",
      "                           Passes_PrgP                      Carries_Carries  \\\n",
      "0                                    0                                   19   \n",
      "1  On matchday squad, but did not play  On matchday squad, but did not play   \n",
      "2  On matchday squad, but did not play  On matchday squad, but did not play   \n",
      "3  On matchday squad, but did not play  On matchday squad, but did not play   \n",
      "4  On matchday squad, but did not play  On matchday squad, but did not play   \n",
      "\n",
      "                          Carries_PrgC                         Take-Ons_Att  \\\n",
      "0                                    5                                    2   \n",
      "1  On matchday squad, but did not play  On matchday squad, but did not play   \n",
      "2  On matchday squad, but did not play  On matchday squad, but did not play   \n",
      "3  On matchday squad, but did not play  On matchday squad, but did not play   \n",
      "4  On matchday squad, but did not play  On matchday squad, but did not play   \n",
      "\n",
      "                         Take-Ons_Succ  Match Report               Player  \\\n",
      "0                                    0  Match Report  Jones El-Abdellaoui   \n",
      "1  On matchday squad, but did not play  Match Report  Jones El-Abdellaoui   \n",
      "2  On matchday squad, but did not play  Match Report  Jones El-Abdellaoui   \n",
      "3  On matchday squad, but did not play  Match Report  Jones El-Abdellaoui   \n",
      "4  On matchday squad, but did not play  Match Report  Jones El-Abdellaoui   \n",
      "\n",
      "                                          PlayerLink  \n",
      "0  /en/players/29dd3b2e/matchlogs/2025-2026/summa...  \n",
      "1  /en/players/29dd3b2e/matchlogs/2025-2026/summa...  \n",
      "2  /en/players/29dd3b2e/matchlogs/2025-2026/summa...  \n",
      "3  /en/players/29dd3b2e/matchlogs/2025-2026/summa...  \n",
      "4  /en/players/29dd3b2e/matchlogs/2025-2026/summa...  \n",
      "\n",
      "[5 rows x 39 columns]\n"
     ]
    }
   ],
   "source": [
    "print(player_matches.head())"
   ]
  },
  {
   "cell_type": "code",
   "execution_count": null,
   "id": "bec1d79b",
   "metadata": {},
   "outputs": [],
   "source": []
  }
 ],
 "metadata": {
  "kernelspec": {
   "display_name": ".venv (3.12.1)",
   "language": "python",
   "name": "python3"
  },
  "language_info": {
   "codemirror_mode": {
    "name": "ipython",
    "version": 3
   },
   "file_extension": ".py",
   "mimetype": "text/x-python",
   "name": "python",
   "nbconvert_exporter": "python",
   "pygments_lexer": "ipython3",
   "version": "3.12.1"
  }
 },
 "nbformat": 4,
 "nbformat_minor": 5
}
